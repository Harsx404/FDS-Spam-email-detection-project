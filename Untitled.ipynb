{
 "cells": [
  {
   "cell_type": "markdown",
   "id": "0d89f7b5",
   "metadata": {},
   "source": [
    "<table align=\"center\" width=100%>\n",
    "    <tr>\n",
    "        <td width=\"15%\">\n",
    "            <img src=\"./mail.png\">\n",
    "        </td>\n",
    "        <td>\n",
    "            <div align=\"center\">\n",
    "                <font color=\"blue\" size=24px>\n",
    "                    <b>Spam Email Detection\n",
    "                    </b>\n",
    "                </font>\n",
    "            </div>\n",
    "        </td>\n",
    "    </tr>\n",
    "</table>"
   ]
  },
  {
   "cell_type": "markdown",
   "id": "1adf6906",
   "metadata": {},
   "source": [
    "<style>\n",
    "  .PS{\n",
    "    color:green;\n",
    "    background:black;\n",
    "    border:2px solid white;\n",
    "    border-radius:5px;\n",
    "    text-align:center;\n",
    "    padding-top:15px\n",
    "  }\n",
    "\n",
    "</style>\n",
    "\n",
    "<div class=PS>\n",
    "<h3>Problem Statement</h3>\n",
    "</div>\n",
    "\n",
    "Develop a machine learning model to classify emails as spam or ham using a labeled dataset. The goal is to accurately filter out spam emails while minimizing false positives, enhancing email security and user experience."
   ]
  },
  {
   "cell_type": "markdown",
   "id": "cd22ce3c",
   "metadata": {},
   "source": [
    "<style>\n",
    "  .PS{\n",
    "    color:green;\n",
    "    background:black;\n",
    "    border:2px solid white;\n",
    "    border-radius:5px;\n",
    "    text-align:center;\n",
    "    padding-top:15px;\n",
    "  }\n",
    "  .text{\n",
    "    width:100px;\n",
    "    background-color:black;\n",
    "    border:2px solid white;\n",
    "    color:green;\n",
    "    text-align:center;\n",
    "  \n",
    "  }\n",
    "\n",
    "</style>\n",
    "\n",
    "<div class=PS>\n",
    "<h3>Data Defination</h3>\n",
    "</div>\n",
    "\n",
    "<h3 class=\"text\">Spam</h3><p> Spam refers to unsolicited, irrelevant, or inappropriate messages sent over the internet, typically in bulk. These messages are often commercial in nature, promoting products or services, and can include phishing attempts or malware. Spam can clutter inboxes and lead to security risks for users.</p>\n",
    "<h3 class=\"text\">Ham</h3><p>Ham refers to legitimate emails that are not spam. These messages are typically relevant and wanted by the recipient, such as personal communications, newsletters, or important notifications. Ham is the opposite of spam and represents the desired content in an inbox.</p>\n",
    "\n"
   ]
  },
  {
   "cell_type": "markdown",
   "id": "db59b060",
   "metadata": {},
   "source": [
    "<style>\n",
    "    .ILIB{\n",
    "        width:auto;\n",
    "        color:green;\n",
    "        background:black;\n",
    "        border:2px solid white;\n",
    "        border-radius:5px;\n",
    "        display:flex;\n",
    "        justify-content:center;\n",
    "        align-items:center;\n",
    "        padding-top:15px;\n",
    "    }\n",
    "\n",
    "</style>\n",
    "\n",
    "\n",
    "<div class=\"ILIB\">\n",
    "<h3>Import Libraries</h3>\n",
    "</div>"
   ]
  },
  {
   "cell_type": "code",
   "execution_count": 1,
   "id": "513f81fb-6fad-4278-82c4-5c4631cd5f54",
   "metadata": {},
   "outputs": [],
   "source": [
    "# suppress display of warnings\n",
    "import warnings\n",
    "warnings.filterwarnings(\"ignore\")\n",
    "\n",
    "# 'Pandas' is used for data manipulation and analysis\n",
    "import pandas as pd \n",
    "\n",
    "# 'Numpy' is used for mathematical operations on large, multi-dimensional arrays and matrices\n",
    "import numpy as np\n",
    "\n",
    "# 'Matplotlib' is a data visualization library for 2D and 3D plots, built on numpy\n",
    "import matplotlib.pyplot as plt\n",
    "from matplotlib.colors import ListedColormap\n",
    "\n",
    "# 'Seaborn' is based on matplotlib; used for plotting statistical graphics\n",
    "import seaborn as sns\n",
    "\n",
    "# import various functions to perform classification\n",
    "from sklearn.preprocessing import StandardScaler\n",
    "from sklearn.model_selection import train_test_split\n",
    "from sklearn import metrics\n",
    "from sklearn.metrics import classification_report\n",
    "from sklearn.metrics import cohen_kappa_score\n",
    "from sklearn.metrics import confusion_matrix\n",
    "from sklearn.model_selection import GridSearchCV\n",
    "from sklearn.naive_bayes import GaussianNB\n",
    "from sklearn.neighbors import KNeighborsClassifier\n",
    "from sklearn.model_selection import cross_val_score "
   ]
  },
  {
   "cell_type": "markdown",
   "id": "00f27cf7",
   "metadata": {},
   "source": [
    "<style>\n",
    "    .ILIB{\n",
    "        width:auto;\n",
    "        color:green;\n",
    "        background:black;\n",
    "        border:2px solid white;\n",
    "        border-radius:5px;\n",
    "        display:flex;\n",
    "        justify-content:center;\n",
    "        align-items:center;\n",
    "        padding-top:15px;\n",
    "    }\n",
    "\n",
    "</style>\n",
    "\n",
    "\n",
    "<div class=\"ILIB\">\n",
    "<h3>Reading DataSet</h3>\n",
    "</div>"
   ]
  },
  {
   "cell_type": "code",
   "execution_count": 9,
   "id": "fd617ddf-c9c1-4ef6-b416-28f056748a2b",
   "metadata": {},
   "outputs": [
    {
     "data": {
      "text/html": [
       "<div>\n",
       "<style scoped>\n",
       "    .dataframe tbody tr th:only-of-type {\n",
       "        vertical-align: middle;\n",
       "    }\n",
       "\n",
       "    .dataframe tbody tr th {\n",
       "        vertical-align: top;\n",
       "    }\n",
       "\n",
       "    .dataframe thead th {\n",
       "        text-align: right;\n",
       "    }\n",
       "</style>\n",
       "<table border=\"1\" class=\"dataframe\">\n",
       "  <thead>\n",
       "    <tr style=\"text-align: right;\">\n",
       "      <th></th>\n",
       "      <th>label</th>\n",
       "      <th>text</th>\n",
       "    </tr>\n",
       "  </thead>\n",
       "  <tbody>\n",
       "    <tr>\n",
       "      <th>0</th>\n",
       "      <td>1</td>\n",
       "      <td>ounce feather bowl hummingbird opec moment ala...</td>\n",
       "    </tr>\n",
       "    <tr>\n",
       "      <th>1</th>\n",
       "      <td>1</td>\n",
       "      <td>wulvob get your medircations online qnb ikud v...</td>\n",
       "    </tr>\n",
       "    <tr>\n",
       "      <th>2</th>\n",
       "      <td>0</td>\n",
       "      <td>computer connection from cnn com wednesday es...</td>\n",
       "    </tr>\n",
       "    <tr>\n",
       "      <th>3</th>\n",
       "      <td>1</td>\n",
       "      <td>university degree obtain a prosperous future m...</td>\n",
       "    </tr>\n",
       "    <tr>\n",
       "      <th>4</th>\n",
       "      <td>0</td>\n",
       "      <td>thanks for all your answers guys i know i shou...</td>\n",
       "    </tr>\n",
       "  </tbody>\n",
       "</table>\n",
       "</div>"
      ],
      "text/plain": [
       "   label                                               text\n",
       "0      1  ounce feather bowl hummingbird opec moment ala...\n",
       "1      1  wulvob get your medircations online qnb ikud v...\n",
       "2      0   computer connection from cnn com wednesday es...\n",
       "3      1  university degree obtain a prosperous future m...\n",
       "4      0  thanks for all your answers guys i know i shou..."
      ]
     },
     "execution_count": 9,
     "metadata": {},
     "output_type": "execute_result"
    }
   ],
   "source": [
    "# read csv file using pandas\n",
    "df_email = pd.read_csv('Email.csv')\n",
    "\n",
    "# display the top 5 rows of the dataframe\n",
    "df_email.head()"
   ]
  },
  {
   "cell_type": "markdown",
   "id": "5dfe3312",
   "metadata": {},
   "source": [
    "<style>\n",
    "    .ILIB{\n",
    "        width:auto;\n",
    "        color:green;\n",
    "        background:black;\n",
    "        border:2px solid white;\n",
    "        border-radius:5px;\n",
    "        display:flex;\n",
    "        justify-content:center;\n",
    "        align-items:center;\n",
    "        padding-top:15px;\n",
    "    }\n",
    "\n",
    "</style>\n",
    "\n",
    "\n",
    "<div class=\"ILIB\">\n",
    "<h3>Data Shape</h3>\n",
    "</div>"
   ]
  },
  {
   "cell_type": "code",
   "execution_count": 10,
   "id": "4fc6dadb",
   "metadata": {},
   "outputs": [
    {
     "name": "stdout",
     "output_type": "stream",
     "text": [
      "Number of rows are:  83448\n",
      "Number of columns are:  2\n"
     ]
    }
   ],
   "source": [
    "# 'shape' function gives the total number of rows and columns in the data\n",
    "print(\"Number of rows are: \",df_email.shape[0])\n",
    "print(\"Number of columns are: \",df_email.shape[1])"
   ]
  },
  {
   "cell_type": "markdown",
   "id": "48933858",
   "metadata": {},
   "source": [
    "<style>\n",
    "    .ILIB{\n",
    "        width:auto;\n",
    "        color:green;\n",
    "        background:black;\n",
    "        border:2px solid white;\n",
    "        border-radius:5px;\n",
    "        display:flex;\n",
    "        justify-content:center;\n",
    "        align-items:center;\n",
    "        padding-top:15px;\n",
    "    }\n",
    "\n",
    "</style>\n",
    "\n",
    "\n",
    "<div class=\"ILIB\">\n",
    "<h3>Data Types</h3>\n",
    "</div>"
   ]
  },
  {
   "cell_type": "code",
   "execution_count": 11,
   "id": "94a919b9",
   "metadata": {},
   "outputs": [
    {
     "data": {
      "text/plain": [
       "label     int64\n",
       "text     object\n",
       "dtype: object"
      ]
     },
     "execution_count": 11,
     "metadata": {},
     "output_type": "execute_result"
    }
   ],
   "source": [
    "df_email.dtypes"
   ]
  },
  {
   "cell_type": "markdown",
   "id": "abac448d",
   "metadata": {},
   "source": [
    "<style>\n",
    "    .ILIB{\n",
    "        width:auto;\n",
    "        color:green;\n",
    "        background:black;\n",
    "        border:2px solid white;\n",
    "        border-radius:5px;\n",
    "        display:flex;\n",
    "        justify-content:center;\n",
    "        align-items:center;\n",
    "        padding-top:15px;\n",
    "    }\n",
    "\n",
    "</style>\n",
    "\n",
    "\n",
    "<div class=\"ILIB\">\n",
    "<h3> Columns of Dataset</h3>\n",
    "</div>"
   ]
  },
  {
   "cell_type": "code",
   "execution_count": 12,
   "id": "51645ef7",
   "metadata": {},
   "outputs": [
    {
     "data": {
      "text/plain": [
       "Index(['label', 'text'], dtype='object')"
      ]
     },
     "execution_count": 12,
     "metadata": {},
     "output_type": "execute_result"
    }
   ],
   "source": [
    "df_email.columns"
   ]
  },
  {
   "cell_type": "code",
   "execution_count": 13,
   "id": "ad78c52e",
   "metadata": {},
   "outputs": [
    {
     "name": "stdout",
     "output_type": "stream",
     "text": [
      "<class 'pandas.core.frame.DataFrame'>\n",
      "RangeIndex: 83448 entries, 0 to 83447\n",
      "Data columns (total 2 columns):\n",
      " #   Column  Non-Null Count  Dtype \n",
      "---  ------  --------------  ----- \n",
      " 0   label   83448 non-null  int64 \n",
      " 1   text    83448 non-null  object\n",
      "dtypes: int64(1), object(1)\n",
      "memory usage: 1.3+ MB\n"
     ]
    }
   ],
   "source": [
    "# Dataset Info\n",
    "# Checking information about the dataset using info\n",
    "df_email.info()"
   ]
  },
  {
   "cell_type": "markdown",
   "id": "028e9ef4",
   "metadata": {},
   "source": [
    "<style>\n",
    "    .ILIB{\n",
    "        width:auto;\n",
    "        color:green;\n",
    "        background:black;\n",
    "        border:2px solid white;\n",
    "        border-radius:5px;\n",
    "        display:flex;\n",
    "        justify-content:center;\n",
    "        align-items:center;\n",
    "        padding-top:15px;\n",
    "    }\n",
    "\n",
    "</style>\n",
    "\n",
    "\n",
    "<div class=\"ILIB\">\n",
    "<h3>Checking Duplicates</h3>\n",
    "</div>"
   ]
  },
  {
   "cell_type": "code",
   "execution_count": 14,
   "id": "1e33ff25",
   "metadata": {},
   "outputs": [
    {
     "name": "stdout",
     "output_type": "stream",
     "text": [
      "number of duplicated rows are 0\n"
     ]
    }
   ],
   "source": [
    "# Dataset Duplicate Value Count\n",
    "dup = df_email.duplicated().sum()\n",
    "print(f'number of duplicated rows are {dup}')"
   ]
  },
  {
   "cell_type": "markdown",
   "id": "de317fa3",
   "metadata": {},
   "source": [
    "<style>\n",
    "    .ILIB{\n",
    "        width:auto;\n",
    "        color:green;\n",
    "        background:black;\n",
    "        border:2px solid white;\n",
    "        border-radius:5px;\n",
    "        display:flex;\n",
    "        justify-content:center;\n",
    "        align-items:center;\n",
    "        padding-top:15px;\n",
    "    }\n",
    "\n",
    "</style>\n",
    "\n",
    "\n",
    "<div class=\"ILIB\">\n",
    "<h3>Checking Null</h3>\n",
    "</div>"
   ]
  },
  {
   "cell_type": "code",
   "execution_count": 15,
   "id": "e112b9b8",
   "metadata": {},
   "outputs": [
    {
     "data": {
      "text/plain": [
       "label    0\n",
       "text     0\n",
       "dtype: int64"
      ]
     },
     "execution_count": 15,
     "metadata": {},
     "output_type": "execute_result"
    }
   ],
   "source": [
    "# Missing Values/Null Values Count\n",
    "df_email.isnull().sum()"
   ]
  },
  {
   "cell_type": "code",
   "execution_count": 16,
   "id": "500764b8",
   "metadata": {},
   "outputs": [
    {
     "data": {
      "text/html": [
       "<div>\n",
       "<style scoped>\n",
       "    .dataframe tbody tr th:only-of-type {\n",
       "        vertical-align: middle;\n",
       "    }\n",
       "\n",
       "    .dataframe tbody tr th {\n",
       "        vertical-align: top;\n",
       "    }\n",
       "\n",
       "    .dataframe thead th {\n",
       "        text-align: right;\n",
       "    }\n",
       "</style>\n",
       "<table border=\"1\" class=\"dataframe\">\n",
       "  <thead>\n",
       "    <tr style=\"text-align: right;\">\n",
       "      <th></th>\n",
       "      <th>label</th>\n",
       "      <th>text</th>\n",
       "    </tr>\n",
       "  </thead>\n",
       "  <tbody>\n",
       "    <tr>\n",
       "      <th>count</th>\n",
       "      <td>83448.00</td>\n",
       "      <td>83448</td>\n",
       "    </tr>\n",
       "    <tr>\n",
       "      <th>unique</th>\n",
       "      <td>NaN</td>\n",
       "      <td>83446</td>\n",
       "    </tr>\n",
       "    <tr>\n",
       "      <th>top</th>\n",
       "      <td>NaN</td>\n",
       "      <td>unsubscribe</td>\n",
       "    </tr>\n",
       "    <tr>\n",
       "      <th>freq</th>\n",
       "      <td>NaN</td>\n",
       "      <td>2</td>\n",
       "    </tr>\n",
       "    <tr>\n",
       "      <th>mean</th>\n",
       "      <td>0.53</td>\n",
       "      <td>NaN</td>\n",
       "    </tr>\n",
       "    <tr>\n",
       "      <th>std</th>\n",
       "      <td>0.50</td>\n",
       "      <td>NaN</td>\n",
       "    </tr>\n",
       "    <tr>\n",
       "      <th>min</th>\n",
       "      <td>0.00</td>\n",
       "      <td>NaN</td>\n",
       "    </tr>\n",
       "    <tr>\n",
       "      <th>25%</th>\n",
       "      <td>0.00</td>\n",
       "      <td>NaN</td>\n",
       "    </tr>\n",
       "    <tr>\n",
       "      <th>50%</th>\n",
       "      <td>1.00</td>\n",
       "      <td>NaN</td>\n",
       "    </tr>\n",
       "    <tr>\n",
       "      <th>75%</th>\n",
       "      <td>1.00</td>\n",
       "      <td>NaN</td>\n",
       "    </tr>\n",
       "    <tr>\n",
       "      <th>max</th>\n",
       "      <td>1.00</td>\n",
       "      <td>NaN</td>\n",
       "    </tr>\n",
       "  </tbody>\n",
       "</table>\n",
       "</div>"
      ],
      "text/plain": [
       "           label         text\n",
       "count   83448.00        83448\n",
       "unique       NaN        83446\n",
       "top          NaN  unsubscribe\n",
       "freq         NaN            2\n",
       "mean        0.53          NaN\n",
       "std         0.50          NaN\n",
       "min         0.00          NaN\n",
       "25%         0.00          NaN\n",
       "50%         1.00          NaN\n",
       "75%         1.00          NaN\n",
       "max         1.00          NaN"
      ]
     },
     "execution_count": 16,
     "metadata": {},
     "output_type": "execute_result"
    }
   ],
   "source": [
    "# Dataset Describe (all columns included)\n",
    "df_email.describe(include= 'all').round(2)"
   ]
  },
  {
   "cell_type": "markdown",
   "id": "7015ec69",
   "metadata": {},
   "source": [
    "<style>\n",
    "    .ILIB{\n",
    "        width:auto;\n",
    "        color:green;\n",
    "        background:black;\n",
    "        border:2px solid white;\n",
    "        border-radius:5px;\n",
    "        display:flex;\n",
    "        justify-content:center;\n",
    "        align-items:center;\n",
    "        padding-top:15px;\n",
    "    }\n",
    "\n",
    "</style>\n",
    "\n",
    "\n",
    "<div class=\"ILIB\">\n",
    "<h3>Checking Unique Values</h3>\n",
    "</div>"
   ]
  },
  {
   "cell_type": "code",
   "execution_count": 18,
   "id": "dbe676c9",
   "metadata": {},
   "outputs": [
    {
     "name": "stdout",
     "output_type": "stream",
     "text": [
      "No. of unique values in label is 2\n",
      "No. of unique values in text is 83446\n"
     ]
    }
   ],
   "source": [
    "# Check Unique Values for each variable using a for loop.\n",
    "for i in df_email.columns.tolist():\n",
    "  print(\"No. of unique values in\",i,\"is\",df_email[i].nunique())"
   ]
  },
  {
   "cell_type": "markdown",
   "id": "d7ab7e52",
   "metadata": {},
   "source": [
    "<style>\n",
    "    .ILIB{\n",
    "        width:auto;\n",
    "        color:green;\n",
    "        background:black;\n",
    "        border:2px solid white;\n",
    "        border-radius:5px;\n",
    "        display:flex;\n",
    "        justify-content:center;\n",
    "        align-items:center;\n",
    "        padding-top:15px;\n",
    "    }\n",
    "\n",
    "</style>\n",
    "\n",
    "\n",
    "<div class=\"ILIB\">\n",
    "<h3>Cleaning Non-Named Rows</h3>\n",
    "</div>"
   ]
  },
  {
   "cell_type": "code",
   "execution_count": 19,
   "id": "7c3f0340",
   "metadata": {},
   "outputs": [],
   "source": [
    "df_cleaned = df_email[df_email['label'].isin([0, 1])]"
   ]
  },
  {
   "cell_type": "code",
   "execution_count": 20,
   "id": "15323825",
   "metadata": {},
   "outputs": [
    {
     "data": {
      "text/html": [
       "<div>\n",
       "<style scoped>\n",
       "    .dataframe tbody tr th:only-of-type {\n",
       "        vertical-align: middle;\n",
       "    }\n",
       "\n",
       "    .dataframe tbody tr th {\n",
       "        vertical-align: top;\n",
       "    }\n",
       "\n",
       "    .dataframe thead th {\n",
       "        text-align: right;\n",
       "    }\n",
       "</style>\n",
       "<table border=\"1\" class=\"dataframe\">\n",
       "  <thead>\n",
       "    <tr style=\"text-align: right;\">\n",
       "      <th></th>\n",
       "      <th>label</th>\n",
       "      <th>text</th>\n",
       "    </tr>\n",
       "  </thead>\n",
       "  <tbody>\n",
       "    <tr>\n",
       "      <th>0</th>\n",
       "      <td>1</td>\n",
       "      <td>ounce feather bowl hummingbird opec moment ala...</td>\n",
       "    </tr>\n",
       "    <tr>\n",
       "      <th>1</th>\n",
       "      <td>1</td>\n",
       "      <td>wulvob get your medircations online qnb ikud v...</td>\n",
       "    </tr>\n",
       "    <tr>\n",
       "      <th>2</th>\n",
       "      <td>0</td>\n",
       "      <td>computer connection from cnn com wednesday es...</td>\n",
       "    </tr>\n",
       "    <tr>\n",
       "      <th>3</th>\n",
       "      <td>1</td>\n",
       "      <td>university degree obtain a prosperous future m...</td>\n",
       "    </tr>\n",
       "    <tr>\n",
       "      <th>4</th>\n",
       "      <td>0</td>\n",
       "      <td>thanks for all your answers guys i know i shou...</td>\n",
       "    </tr>\n",
       "  </tbody>\n",
       "</table>\n",
       "</div>"
      ],
      "text/plain": [
       "   label                                               text\n",
       "0      1  ounce feather bowl hummingbird opec moment ala...\n",
       "1      1  wulvob get your medircations online qnb ikud v...\n",
       "2      0   computer connection from cnn com wednesday es...\n",
       "3      1  university degree obtain a prosperous future m...\n",
       "4      0  thanks for all your answers guys i know i shou..."
      ]
     },
     "execution_count": 20,
     "metadata": {},
     "output_type": "execute_result"
    }
   ],
   "source": [
    "df_cleaned.head()"
   ]
  },
  {
   "cell_type": "markdown",
   "id": "abb92211",
   "metadata": {},
   "source": [
    "<style>\n",
    "    .ILIB{\n",
    "        width:auto;\n",
    "        color:green;\n",
    "        background:black;\n",
    "        border:2px solid white;\n",
    "        border-radius:5px;\n",
    "        display:flex;\n",
    "        justify-content:center;\n",
    "        align-items:center;\n",
    "        padding-top:15px;\n",
    "    }\n",
    "\n",
    "</style>\n",
    "\n",
    "\n",
    "<div class=\"ILIB\">\n",
    "<h3>Saving CSV File</h3>\n",
    "</div>"
   ]
  },
  {
   "cell_type": "code",
   "execution_count": 21,
   "id": "ea317106",
   "metadata": {},
   "outputs": [],
   "source": [
    "df_cleaned.to_csv('Email.csv', index=False)"
   ]
  },
  {
   "cell_type": "code",
   "execution_count": 22,
   "id": "bcff25ef",
   "metadata": {},
   "outputs": [
    {
     "name": "stdout",
     "output_type": "stream",
     "text": [
      "       label                                               text\n",
      "0          1  ounce feather bowl hummingbird opec moment ala...\n",
      "1          1  wulvob get your medircations online qnb ikud v...\n",
      "2          0   computer connection from cnn com wednesday es...\n",
      "3          1  university degree obtain a prosperous future m...\n",
      "4          0  thanks for all your answers guys i know i shou...\n",
      "...      ...                                                ...\n",
      "83443      0  hi given a date how do i get the last date of ...\n",
      "83444      1  now you can order software on cd or download i...\n",
      "83445      1  dear valued member canadianpharmacy provides a...\n",
      "83446      0  subscribe change profile contact us long term ...\n",
      "83447      1  get the most out of life ! viagra has helped m...\n",
      "\n",
      "[83448 rows x 2 columns]\n"
     ]
    }
   ],
   "source": [
    "print(df_cleaned)"
   ]
  },
  {
   "cell_type": "code",
   "execution_count": 26,
   "id": "179a0ade",
   "metadata": {},
   "outputs": [
    {
     "name": "stdout",
     "output_type": "stream",
     "text": [
      "[1 0]\n"
     ]
    }
   ],
   "source": [
    "unique_values = df_cleaned['label'].unique()\n",
    "print(unique_values)\n"
   ]
  },
  {
   "cell_type": "markdown",
   "id": "21eed473",
   "metadata": {},
   "source": [
    "<style>\n",
    "    .ILIB{\n",
    "        width:auto;\n",
    "        color:green;\n",
    "        background:black;\n",
    "        border:2px solid white;\n",
    "        border-radius:5px;\n",
    "        display:flex;\n",
    "        justify-content:center;\n",
    "        align-items:center;\n",
    "        padding-top:15px;\n",
    "    }\n",
    "\n",
    "</style>\n",
    "\n",
    "\n",
    "<div class=\"ILIB\">\n",
    "<h3>Renaming Some Values</h3>\n",
    "</div>"
   ]
  },
  {
   "cell_type": "code",
   "execution_count": 32,
   "id": "aa9afcdf",
   "metadata": {},
   "outputs": [
    {
     "data": {
      "text/html": [
       "<div>\n",
       "<style scoped>\n",
       "    .dataframe tbody tr th:only-of-type {\n",
       "        vertical-align: middle;\n",
       "    }\n",
       "\n",
       "    .dataframe tbody tr th {\n",
       "        vertical-align: top;\n",
       "    }\n",
       "\n",
       "    .dataframe thead th {\n",
       "        text-align: right;\n",
       "    }\n",
       "</style>\n",
       "<table border=\"1\" class=\"dataframe\">\n",
       "  <thead>\n",
       "    <tr style=\"text-align: right;\">\n",
       "      <th></th>\n",
       "      <th>label</th>\n",
       "      <th>Message</th>\n",
       "      <th>Category</th>\n",
       "    </tr>\n",
       "  </thead>\n",
       "  <tbody>\n",
       "    <tr>\n",
       "      <th>0</th>\n",
       "      <td>1</td>\n",
       "      <td>ounce feather bowl hummingbird opec moment ala...</td>\n",
       "      <td>spam</td>\n",
       "    </tr>\n",
       "    <tr>\n",
       "      <th>1</th>\n",
       "      <td>1</td>\n",
       "      <td>wulvob get your medircations online qnb ikud v...</td>\n",
       "      <td>spam</td>\n",
       "    </tr>\n",
       "    <tr>\n",
       "      <th>2</th>\n",
       "      <td>0</td>\n",
       "      <td>computer connection from cnn com wednesday es...</td>\n",
       "      <td>ham</td>\n",
       "    </tr>\n",
       "    <tr>\n",
       "      <th>3</th>\n",
       "      <td>1</td>\n",
       "      <td>university degree obtain a prosperous future m...</td>\n",
       "      <td>spam</td>\n",
       "    </tr>\n",
       "    <tr>\n",
       "      <th>4</th>\n",
       "      <td>0</td>\n",
       "      <td>thanks for all your answers guys i know i shou...</td>\n",
       "      <td>ham</td>\n",
       "    </tr>\n",
       "  </tbody>\n",
       "</table>\n",
       "</div>"
      ],
      "text/plain": [
       "   label                                            Message Category\n",
       "0      1  ounce feather bowl hummingbird opec moment ala...     spam\n",
       "1      1  wulvob get your medircations online qnb ikud v...     spam\n",
       "2      0   computer connection from cnn com wednesday es...      ham\n",
       "3      1  university degree obtain a prosperous future m...     spam\n",
       "4      0  thanks for all your answers guys i know i shou...      ham"
      ]
     },
     "execution_count": 32,
     "metadata": {},
     "output_type": "execute_result"
    }
   ],
   "source": [
    "# Create a new column 'category' that maps 0 to 'ham' and 1 to 'spam'\n",
    "df_cleaned['category'] = df_cleaned['label'].map({0: 'ham', 1: 'spam'})\n",
    "df_cleaned.rename(columns={'text': 'Message'}, inplace=True)\n",
    "df_cleaned.rename(columns={'category': 'Category'}, inplace=True)\n",
    "\n",
    "# Display the updated DataFrame\n",
    "df_cleaned.head()"
   ]
  },
  {
   "cell_type": "markdown",
   "id": "55add80f",
   "metadata": {},
   "source": [
    "<style>\n",
    "    .ILIB{\n",
    "        width:auto;\n",
    "        color:green;\n",
    "        background:black;\n",
    "        border:2px solid white;\n",
    "        border-radius:5px;\n",
    "        display:flex;\n",
    "        justify-content:center;\n",
    "        align-items:center;\n",
    "        padding-top:15px;\n",
    "    }\n",
    "\n",
    "</style>\n",
    "\n",
    "\n",
    "<div class=\"ILIB\">\n",
    "<h3>Pie Graph</h3>\n",
    "</div>"
   ]
  },
  {
   "cell_type": "code",
   "execution_count": 33,
   "id": "4e8b8328",
   "metadata": {},
   "outputs": [
    {
     "data": {
      "image/png": "[encoded data removed]",
      "text/plain": [
       "<Figure size 500x500 with 1 Axes>"
      ]
     },
     "metadata": {},
     "output_type": "display_data"
    }
   ],
   "source": [
    "# Chart - 1 Pie Chart Visualization Code For Distribution of Spam vs Ham Messages\n",
    "spread = df_cleaned['Category'].value_counts()\n",
    "plt.rcParams['figure.figsize'] = (5,5)\n",
    "\n",
    "# Set Labels\n",
    "spread.plot(kind = 'pie', autopct='%1.2f%%', cmap='Set1')\n",
    "plt.title(f'Distribution of Spam vs Ham')\n",
    "\n",
    "# Display the Chart\n",
    "plt.show()"
   ]
  },
  {
   "cell_type": "markdown",
   "id": "26c1fd36",
   "metadata": {},
   "source": [
    "<style>\n",
    "    .ILIB{\n",
    "        width:auto;\n",
    "        color:green;\n",
    "        background:black;\n",
    "        border:2px solid white;\n",
    "        border-radius:5px;\n",
    "        display:flex;\n",
    "        justify-content:center;\n",
    "        align-items:center;\n",
    "        padding-top:15px;\n",
    "    }\n",
    "\n",
    "</style>\n",
    "\n",
    "\n",
    "<div class=\"ILIB\">\n",
    "<h3>Histogram</h3>\n",
    "</div>"
   ]
  },
  {
   "cell_type": "code",
   "execution_count": 34,
   "id": "1748e90f",
   "metadata": {},
   "outputs": [
    {
     "data": {
      "image/png": "[encoded data removed]",
      "text/plain": [
       "<Figure size 500x500 with 1 Axes>"
      ]
     },
     "metadata": {},
     "output_type": "display_data"
    }
   ],
   "source": [
    "# plot the histogram of numeric independent variables\n",
    "# the hist() function considers the numeric variables only, by default\n",
    "df_cleaned.hist()\n",
    "\n",
    "# adjust the subplots\n",
    "plt.tight_layout()\n",
    "\n",
    "# display the plot\n",
    "plt.show()  "
   ]
  },
  {
   "cell_type": "markdown",
   "id": "e1f9f400",
   "metadata": {},
   "source": [
    "<style>\n",
    "    .ILIB{\n",
    "        width:auto;\n",
    "        color:green;\n",
    "        background:black;\n",
    "        border:2px solid white;\n",
    "        border-radius:5px;\n",
    "        display:flex;\n",
    "        justify-content:center;\n",
    "        align-items:center;\n",
    "        padding-top:15px;\n",
    "    }\n",
    "\n",
    "</style>\n",
    "\n",
    "\n",
    "<div class=\"ILIB\">\n",
    "<h3>CountPlot</h3>\n",
    "</div>"
   ]
  },
  {
   "cell_type": "code",
   "execution_count": 36,
   "id": "2c95d04e",
   "metadata": {},
   "outputs": [
    {
     "data": {
      "image/png": "[encoded data removed]",
      "text/plain": [
       "<Figure size 500x500 with 1 Axes>"
      ]
     },
     "metadata": {},
     "output_type": "display_data"
    }
   ],
   "source": [
    "# Count plot for spam and ham\n",
    "sns.countplot(x='Category', data=df_cleaned)\n",
    "\n",
    "# Show the plot\n",
    "plt.show()"
   ]
  }
 ],
 "metadata": {
  "kernelspec": {
   "display_name": "Python 3 (ipykernel)",
   "language": "python",
   "name": "python3"
  },
  "language_info": {
   "codemirror_mode": {
    "name": "ipython",
    "version": 3
   },
   "file_extension": ".py",
   "mimetype": "text/x-python",
   "name": "python",
   "nbconvert_exporter": "python",
   "pygments_lexer": "ipython3",
   "version": "3.12.6"
  }
 },
 "nbformat": 4,
 "nbformat_minor": 5
}
